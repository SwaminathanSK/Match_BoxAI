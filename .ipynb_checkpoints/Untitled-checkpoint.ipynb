{
 "cells": [
  {
   "cell_type": "code",
   "execution_count": 3,
   "id": "16fc9d05",
   "metadata": {},
   "outputs": [],
   "source": [
    "import numpy as np"
   ]
  },
  {
   "cell_type": "code",
   "execution_count": 23,
   "id": "439cee70",
   "metadata": {},
   "outputs": [
    {
     "name": "stdout",
     "output_type": "stream",
     "text": [
      "100000001\n",
      "6562\n"
     ]
    }
   ],
   "source": [
    "with open('Boards.bin', 'wb') as file:\n",
    "    li = pickle.load(file)\n",
    "    \n",
    "inp = input()\n",
    "\n",
    "# history is a list of tuples -> (previous move index, choice of index from the appendable)\n",
    "history = [] # add this to a function later\n",
    "verdict = -1\n",
    "\n",
    "def base_3_to_10(inp):\n",
    "    input_as_int = 0\n",
    "    for i in range(9, 0, -1):\n",
    "        input_as_int += int(inp[9-i])*(3**(i-1))\n",
    "    return input_as_int\n",
    "\n",
    "def move(n, history): # n is the (index+1) of the mapping to the board config\n",
    "    li2 = li[n-1]\n",
    "    draw = choice([0, 1, 2, 3, 4, 5, 6, 7, 8], 1, li2[1])\n",
    "    move = li2[0]\n",
    "    move = move[:draw] + '1' + move[draw+1:]\n",
    "    print(li[base_3_to_10()])\n",
    "    \n",
    "    history.append((base_3_to_10(move), draw))\n",
    "    \n",
    "    if verdict_check((base_3_to_10(move)) == 1:\n",
    "        \n",
    "    return (base_3_to_10(move), draw)\n",
    "\n",
    "def verdict_check(n, x_o): # x win check = 1, o win check = 2\n",
    "    li2 = [int(i) for i in li[n-1][0]]\n",
    "    verdict_check = (li2[0]+li2[1]+li[2] == x_0*3) + (li2[3]+li2[4]+li[5] == x_0*3) +(li2[6]+li2[7]+li[8] == x_0*3) +(li2[0]+li2[3]+li[6] == x_0*3) +(li2[1]+li2[4]+li[7] == x_0*3) +(li2[2]+li2[5]+li[8] == x_0*3) +(li2[0]+li2[4]+li[8] == x_0*3) +(li2[2]+li2[4]+li[6] == x_0*3)\n",
    "    if verdict_check > 0:\n",
    "        verdict = x_0\n",
    "    else:\n",
    "        verdict = -1\n",
    "    return verdict\n",
    "\n",
    "def reinforce(n, history):\n",
    "    if\n",
    "\n"
   ]
  },
  {
   "cell_type": "code",
   "execution_count": null,
   "id": "4c8f0146",
   "metadata": {},
   "outputs": [],
   "source": []
  }
 ],
 "metadata": {
  "kernelspec": {
   "display_name": "Python 3 (ipykernel)",
   "language": "python",
   "name": "python3"
  },
  "language_info": {
   "codemirror_mode": {
    "name": "ipython",
    "version": 3
   },
   "file_extension": ".py",
   "mimetype": "text/x-python",
   "name": "python",
   "nbconvert_exporter": "python",
   "pygments_lexer": "ipython3",
   "version": "3.8.8"
  }
 },
 "nbformat": 4,
 "nbformat_minor": 5
}
